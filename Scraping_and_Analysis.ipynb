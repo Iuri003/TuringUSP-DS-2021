{
 "cells": [
  {
   "cell_type": "code",
   "execution_count": 1,
   "source": [
    "import requests\r\n",
    "from bs4 import BeautifulSoup as bs\r\n",
    "import pandas as pd\r\n",
    "import numpy as np\r\n",
    "import matplotlib.pyplot as plt\r\n",
    "%matplotlib inline\r\n"
   ],
   "outputs": [],
   "metadata": {}
  },
  {
   "cell_type": "markdown",
   "source": [
    "# Scraping"
   ],
   "metadata": {}
  },
  {
   "cell_type": "markdown",
   "source": [
    "## Exemplificando para a primeira aba"
   ],
   "metadata": {}
  },
  {
   "cell_type": "markdown",
   "source": [
    "### Obtenção dos dados"
   ],
   "metadata": {}
  },
  {
   "cell_type": "code",
   "execution_count": 2,
   "source": [
    "# Importando a página\r\n",
    "\r\n",
    "r = requests.get('https://www.scrapethissite.com/pages/forms/')\r\n",
    "\r\n",
    "soup = bs(r.content)\r\n"
   ],
   "outputs": [],
   "metadata": {}
  },
  {
   "cell_type": "code",
   "execution_count": 3,
   "source": [
    "# Extraindo a Tabela desejada\r\n",
    "\r\n",
    "html_table = soup.find(\"table\", attrs={\"class\": \"table\"})\r\n"
   ],
   "outputs": [],
   "metadata": {}
  },
  {
   "cell_type": "code",
   "execution_count": 4,
   "source": [
    "def get_text(content):\r\n",
    "    '''\r\n",
    "    Recebe strings com comandos \\n indesejáveis e espaços vazios\r\n",
    "    \r\n",
    "    Retorna a string tratada\r\n",
    "    \r\n",
    "    Ex: print(get_text('\\n  água é bom\\n    '))\r\n",
    "        'água é bom'\r\n",
    "    '''\r\n",
    "    return \" \".join(content.replace('\\n', \"\").split())\r\n"
   ],
   "outputs": [],
   "metadata": {}
  },
  {
   "cell_type": "markdown",
   "source": [
    "### Transformando a tabela HTML em um DataFrame"
   ],
   "metadata": {}
  },
  {
   "cell_type": "code",
   "execution_count": 5,
   "source": [
    "# Extaindo as chaves\r\n",
    "\r\n",
    "html_keys = html_table.find(\"tr\").find_all(\"th\")\r\n",
    "\r\n",
    "keys = [get_text(k.string) for k in html_keys]\r\n"
   ],
   "outputs": [],
   "metadata": {}
  },
  {
   "cell_type": "code",
   "execution_count": 6,
   "source": [
    "# Extraindo os valores\r\n",
    "\r\n",
    "html_values = html_table.find_all(\"tr\", attrs={\"class\": \"team\"})\r\n",
    "\r\n",
    "'''\r\n",
    "Dentro de cada item da lista html_values estão os times. Para um time em específico,\r\n",
    "encontramos suas propriedades com o .find_all(\"td\") e, por fim, extraímos o texto.\r\n",
    "'''\r\n",
    "\r\n",
    "values = [[get_text(v.string) for v in v_list.find_all('td')] for v_list in html_values]\r\n"
   ],
   "outputs": [],
   "metadata": {}
  },
  {
   "cell_type": "code",
   "execution_count": 7,
   "source": [
    "# Criando o DataFrame\r\n",
    "\r\n",
    "scrape_df = pd.DataFrame()\r\n",
    "\r\n",
    "for k in keys:\r\n",
    "    scrape_df[k] = []\r\n",
    "scrape_df\r\n"
   ],
   "outputs": [
    {
     "output_type": "execute_result",
     "data": {
      "text/html": [
       "<div>\n",
       "<style scoped>\n",
       "    .dataframe tbody tr th:only-of-type {\n",
       "        vertical-align: middle;\n",
       "    }\n",
       "\n",
       "    .dataframe tbody tr th {\n",
       "        vertical-align: top;\n",
       "    }\n",
       "\n",
       "    .dataframe thead th {\n",
       "        text-align: right;\n",
       "    }\n",
       "</style>\n",
       "<table border=\"1\" class=\"dataframe\">\n",
       "  <thead>\n",
       "    <tr style=\"text-align: right;\">\n",
       "      <th></th>\n",
       "      <th>Team Name</th>\n",
       "      <th>Year</th>\n",
       "      <th>Wins</th>\n",
       "      <th>Losses</th>\n",
       "      <th>OT Losses</th>\n",
       "      <th>Win %</th>\n",
       "      <th>Goals For (GF)</th>\n",
       "      <th>Goals Against (GA)</th>\n",
       "      <th>+ / -</th>\n",
       "    </tr>\n",
       "  </thead>\n",
       "  <tbody>\n",
       "  </tbody>\n",
       "</table>\n",
       "</div>"
      ],
      "text/plain": [
       "Empty DataFrame\n",
       "Columns: [Team Name, Year, Wins, Losses, OT Losses, Win %, Goals For (GF), Goals Against (GA), + / -]\n",
       "Index: []"
      ]
     },
     "metadata": {},
     "execution_count": 7
    }
   ],
   "metadata": {}
  },
  {
   "cell_type": "code",
   "execution_count": 8,
   "source": [
    "# Incluindo os valores ao DataFrame\r\n",
    "\r\n",
    "def insert_values(rows, df):\r\n",
    "    '''\r\n",
    "    Recebe uma matriz/array 2D, e adiciona cada linha ao DataFrame recebido.\r\n",
    "    '''\r\n",
    "    for values_list in rows:\r\n",
    "        s = pd.Series(data=values_list, index=keys)\r\n",
    "        row = pd.DataFrame([s])\r\n",
    "        df = pd.concat([df, row], ignore_index=True)\r\n",
    "    return df\r\n",
    "\r\n",
    "scrape_df = insert_values(values, scrape_df)\r\n"
   ],
   "outputs": [],
   "metadata": {}
  },
  {
   "cell_type": "code",
   "execution_count": 9,
   "source": [
    "scrape_df.head()\r\n"
   ],
   "outputs": [
    {
     "output_type": "execute_result",
     "data": {
      "text/html": [
       "<div>\n",
       "<style scoped>\n",
       "    .dataframe tbody tr th:only-of-type {\n",
       "        vertical-align: middle;\n",
       "    }\n",
       "\n",
       "    .dataframe tbody tr th {\n",
       "        vertical-align: top;\n",
       "    }\n",
       "\n",
       "    .dataframe thead th {\n",
       "        text-align: right;\n",
       "    }\n",
       "</style>\n",
       "<table border=\"1\" class=\"dataframe\">\n",
       "  <thead>\n",
       "    <tr style=\"text-align: right;\">\n",
       "      <th></th>\n",
       "      <th>Team Name</th>\n",
       "      <th>Year</th>\n",
       "      <th>Wins</th>\n",
       "      <th>Losses</th>\n",
       "      <th>OT Losses</th>\n",
       "      <th>Win %</th>\n",
       "      <th>Goals For (GF)</th>\n",
       "      <th>Goals Against (GA)</th>\n",
       "      <th>+ / -</th>\n",
       "    </tr>\n",
       "  </thead>\n",
       "  <tbody>\n",
       "    <tr>\n",
       "      <th>0</th>\n",
       "      <td>Boston Bruins</td>\n",
       "      <td>1990</td>\n",
       "      <td>44</td>\n",
       "      <td>24</td>\n",
       "      <td></td>\n",
       "      <td>0.55</td>\n",
       "      <td>299</td>\n",
       "      <td>264</td>\n",
       "      <td>35</td>\n",
       "    </tr>\n",
       "    <tr>\n",
       "      <th>1</th>\n",
       "      <td>Buffalo Sabres</td>\n",
       "      <td>1990</td>\n",
       "      <td>31</td>\n",
       "      <td>30</td>\n",
       "      <td></td>\n",
       "      <td>0.388</td>\n",
       "      <td>292</td>\n",
       "      <td>278</td>\n",
       "      <td>14</td>\n",
       "    </tr>\n",
       "    <tr>\n",
       "      <th>2</th>\n",
       "      <td>Calgary Flames</td>\n",
       "      <td>1990</td>\n",
       "      <td>46</td>\n",
       "      <td>26</td>\n",
       "      <td></td>\n",
       "      <td>0.575</td>\n",
       "      <td>344</td>\n",
       "      <td>263</td>\n",
       "      <td>81</td>\n",
       "    </tr>\n",
       "    <tr>\n",
       "      <th>3</th>\n",
       "      <td>Chicago Blackhawks</td>\n",
       "      <td>1990</td>\n",
       "      <td>49</td>\n",
       "      <td>23</td>\n",
       "      <td></td>\n",
       "      <td>0.613</td>\n",
       "      <td>284</td>\n",
       "      <td>211</td>\n",
       "      <td>73</td>\n",
       "    </tr>\n",
       "    <tr>\n",
       "      <th>4</th>\n",
       "      <td>Detroit Red Wings</td>\n",
       "      <td>1990</td>\n",
       "      <td>34</td>\n",
       "      <td>38</td>\n",
       "      <td></td>\n",
       "      <td>0.425</td>\n",
       "      <td>273</td>\n",
       "      <td>298</td>\n",
       "      <td>-25</td>\n",
       "    </tr>\n",
       "  </tbody>\n",
       "</table>\n",
       "</div>"
      ],
      "text/plain": [
       "            Team Name  Year Wins Losses OT Losses  Win % Goals For (GF)  \\\n",
       "0       Boston Bruins  1990   44     24             0.55            299   \n",
       "1      Buffalo Sabres  1990   31     30            0.388            292   \n",
       "2      Calgary Flames  1990   46     26            0.575            344   \n",
       "3  Chicago Blackhawks  1990   49     23            0.613            284   \n",
       "4   Detroit Red Wings  1990   34     38            0.425            273   \n",
       "\n",
       "  Goals Against (GA) + / -  \n",
       "0                264    35  \n",
       "1                278    14  \n",
       "2                263    81  \n",
       "3                211    73  \n",
       "4                298   -25  "
      ]
     },
     "metadata": {},
     "execution_count": 9
    }
   ],
   "metadata": {
    "scrolled": false
   }
  },
  {
   "cell_type": "markdown",
   "source": [
    "## Scraping de todas as abas"
   ],
   "metadata": {}
  },
  {
   "cell_type": "code",
   "execution_count": 10,
   "source": [
    "def scrape(link, df):\r\n",
    "    '''\r\n",
    "    Aplica todo o método descrito acima para a aba indicada e\r\n",
    "    adiciona a tabela desta ao final DataFrame recebido.\r\n",
    "    '''\r\n",
    "    r = requests.get(link)\r\n",
    "    soup = bs(r.content)\r\n",
    "    \r\n",
    "    html_table = soup.find(\"table\", attrs={\"class\": \"table\"})\r\n",
    "    \r\n",
    "    html_values = html_table.find_all(\"tr\", attrs={\"class\": \"team\"})\r\n",
    "    values = [[get_text(v.string) for v in v_list.find_all('td')] for v_list in html_values]\r\n",
    "    \r\n",
    "    return insert_values(values, df)\r\n"
   ],
   "outputs": [],
   "metadata": {}
  },
  {
   "cell_type": "code",
   "execution_count": 11,
   "source": [
    "for i in range(2, 25):\r\n",
    "    l = 'https://www.scrapethissite.com/pages/forms/?page_num=' + str(i)\r\n",
    "    scrape_df = scrape(l, scrape_df)\r\n"
   ],
   "outputs": [],
   "metadata": {}
  },
  {
   "cell_type": "code",
   "execution_count": 12,
   "source": [
    "scrape_df = scrape_df.astype({'+ / -': 'int8', 'Wins': 'int8', 'Losses': 'int8', 'Year': 'int16', \r\n",
    "                      'Goals For (GF)': 'int16', 'Goals Against (GA)': 'int16', 'Win %': 'float64'})\r\n"
   ],
   "outputs": [],
   "metadata": {}
  },
  {
   "cell_type": "code",
   "execution_count": 13,
   "source": [
    "scrape_df.loc[scrape_df['Team Name'] == 'Nashville Predators'].head()\r\n"
   ],
   "outputs": [
    {
     "output_type": "execute_result",
     "data": {
      "text/html": [
       "<div>\n",
       "<style scoped>\n",
       "    .dataframe tbody tr th:only-of-type {\n",
       "        vertical-align: middle;\n",
       "    }\n",
       "\n",
       "    .dataframe tbody tr th {\n",
       "        vertical-align: top;\n",
       "    }\n",
       "\n",
       "    .dataframe thead th {\n",
       "        text-align: right;\n",
       "    }\n",
       "</style>\n",
       "<table border=\"1\" class=\"dataframe\">\n",
       "  <thead>\n",
       "    <tr style=\"text-align: right;\">\n",
       "      <th></th>\n",
       "      <th>Team Name</th>\n",
       "      <th>Year</th>\n",
       "      <th>Wins</th>\n",
       "      <th>Losses</th>\n",
       "      <th>OT Losses</th>\n",
       "      <th>Win %</th>\n",
       "      <th>Goals For (GF)</th>\n",
       "      <th>Goals Against (GA)</th>\n",
       "      <th>+ / -</th>\n",
       "    </tr>\n",
       "  </thead>\n",
       "  <tbody>\n",
       "    <tr>\n",
       "      <th>210</th>\n",
       "      <td>Nashville Predators</td>\n",
       "      <td>1998</td>\n",
       "      <td>28</td>\n",
       "      <td>47</td>\n",
       "      <td></td>\n",
       "      <td>0.341</td>\n",
       "      <td>190</td>\n",
       "      <td>261</td>\n",
       "      <td>-71</td>\n",
       "    </tr>\n",
       "    <tr>\n",
       "      <th>238</th>\n",
       "      <td>Nashville Predators</td>\n",
       "      <td>1999</td>\n",
       "      <td>28</td>\n",
       "      <td>40</td>\n",
       "      <td>7</td>\n",
       "      <td>0.341</td>\n",
       "      <td>199</td>\n",
       "      <td>240</td>\n",
       "      <td>-41</td>\n",
       "    </tr>\n",
       "    <tr>\n",
       "      <th>268</th>\n",
       "      <td>Nashville Predators</td>\n",
       "      <td>2000</td>\n",
       "      <td>34</td>\n",
       "      <td>36</td>\n",
       "      <td>3</td>\n",
       "      <td>0.415</td>\n",
       "      <td>186</td>\n",
       "      <td>200</td>\n",
       "      <td>-14</td>\n",
       "    </tr>\n",
       "    <tr>\n",
       "      <th>298</th>\n",
       "      <td>Nashville Predators</td>\n",
       "      <td>2001</td>\n",
       "      <td>28</td>\n",
       "      <td>41</td>\n",
       "      <td>0</td>\n",
       "      <td>0.341</td>\n",
       "      <td>196</td>\n",
       "      <td>230</td>\n",
       "      <td>-34</td>\n",
       "    </tr>\n",
       "    <tr>\n",
       "      <th>328</th>\n",
       "      <td>Nashville Predators</td>\n",
       "      <td>2002</td>\n",
       "      <td>27</td>\n",
       "      <td>35</td>\n",
       "      <td>7</td>\n",
       "      <td>0.329</td>\n",
       "      <td>183</td>\n",
       "      <td>206</td>\n",
       "      <td>-23</td>\n",
       "    </tr>\n",
       "  </tbody>\n",
       "</table>\n",
       "</div>"
      ],
      "text/plain": [
       "               Team Name  Year  Wins  Losses OT Losses  Win %  Goals For (GF)  \\\n",
       "210  Nashville Predators  1998    28      47            0.341             190   \n",
       "238  Nashville Predators  1999    28      40         7  0.341             199   \n",
       "268  Nashville Predators  2000    34      36         3  0.415             186   \n",
       "298  Nashville Predators  2001    28      41         0  0.341             196   \n",
       "328  Nashville Predators  2002    27      35         7  0.329             183   \n",
       "\n",
       "     Goals Against (GA)  + / -  \n",
       "210                 261    -71  \n",
       "238                 240    -41  \n",
       "268                 200    -14  \n",
       "298                 230    -34  \n",
       "328                 206    -23  "
      ]
     },
     "metadata": {},
     "execution_count": 13
    }
   ],
   "metadata": {}
  },
  {
   "cell_type": "markdown",
   "source": [
    "## Dados da ESPN"
   ],
   "metadata": {}
  },
  {
   "cell_type": "code",
   "execution_count": 14,
   "source": [
    "espn_df = pd.read_csv('DataSet ESPN.csv')\r\n",
    "espn_df = espn_df.drop(['Unnamed: 0'], axis = 1)\r\n",
    "espn_df.head()\r\n"
   ],
   "outputs": [
    {
     "output_type": "execute_result",
     "data": {
      "text/html": [
       "<div>\n",
       "<style scoped>\n",
       "    .dataframe tbody tr th:only-of-type {\n",
       "        vertical-align: middle;\n",
       "    }\n",
       "\n",
       "    .dataframe tbody tr th {\n",
       "        vertical-align: top;\n",
       "    }\n",
       "\n",
       "    .dataframe thead th {\n",
       "        text-align: right;\n",
       "    }\n",
       "</style>\n",
       "<table border=\"1\" class=\"dataframe\">\n",
       "  <thead>\n",
       "    <tr style=\"text-align: right;\">\n",
       "      <th></th>\n",
       "      <th>Team</th>\n",
       "      <th>Home Games</th>\n",
       "      <th>Home Total</th>\n",
       "      <th>Home Average</th>\n",
       "      <th>Road Games</th>\n",
       "      <th>Road Average</th>\n",
       "      <th>Overall Games</th>\n",
       "      <th>Overall Average</th>\n",
       "      <th>Year</th>\n",
       "      <th>Save Percentage</th>\n",
       "      <th>Penalty Minutes</th>\n",
       "      <th>Penalty Minutes Against</th>\n",
       "    </tr>\n",
       "  </thead>\n",
       "  <tbody>\n",
       "    <tr>\n",
       "      <th>0</th>\n",
       "      <td>Montreal Canadiens</td>\n",
       "      <td>41</td>\n",
       "      <td>824,308</td>\n",
       "      <td>20,105</td>\n",
       "      <td>41</td>\n",
       "      <td>16,013</td>\n",
       "      <td>82</td>\n",
       "      <td>18,059</td>\n",
       "      <td>2001</td>\n",
       "      <td>0.899</td>\n",
       "      <td>1020</td>\n",
       "      <td>1294</td>\n",
       "    </tr>\n",
       "    <tr>\n",
       "      <th>1</th>\n",
       "      <td>Detroit Red Wings</td>\n",
       "      <td>41</td>\n",
       "      <td>819,795</td>\n",
       "      <td>19,995</td>\n",
       "      <td>41</td>\n",
       "      <td>17,889</td>\n",
       "      <td>82</td>\n",
       "      <td>18,942</td>\n",
       "      <td>2001</td>\n",
       "      <td>0.909</td>\n",
       "      <td>1082</td>\n",
       "      <td>1072</td>\n",
       "    </tr>\n",
       "    <tr>\n",
       "      <th>2</th>\n",
       "      <td>Philadelphia Flyers</td>\n",
       "      <td>41</td>\n",
       "      <td>802,595</td>\n",
       "      <td>19,575</td>\n",
       "      <td>41</td>\n",
       "      <td>17,182</td>\n",
       "      <td>82</td>\n",
       "      <td>18,378</td>\n",
       "      <td>2001</td>\n",
       "      <td>0.903</td>\n",
       "      <td>1183</td>\n",
       "      <td>1332</td>\n",
       "    </tr>\n",
       "    <tr>\n",
       "      <th>3</th>\n",
       "      <td>St Louis Blues</td>\n",
       "      <td>41</td>\n",
       "      <td>800,319</td>\n",
       "      <td>19,519</td>\n",
       "      <td>41</td>\n",
       "      <td>16,898</td>\n",
       "      <td>82</td>\n",
       "      <td>18,209</td>\n",
       "      <td>2001</td>\n",
       "      <td>0.899</td>\n",
       "      <td>1345</td>\n",
       "      <td>1366</td>\n",
       "    </tr>\n",
       "    <tr>\n",
       "      <th>4</th>\n",
       "      <td>Toronto Maple Leafs</td>\n",
       "      <td>41</td>\n",
       "      <td>789,567</td>\n",
       "      <td>19,257</td>\n",
       "      <td>41</td>\n",
       "      <td>17,172</td>\n",
       "      <td>82</td>\n",
       "      <td>18,215</td>\n",
       "      <td>2001</td>\n",
       "      <td>0.908</td>\n",
       "      <td>1430</td>\n",
       "      <td>1243</td>\n",
       "    </tr>\n",
       "  </tbody>\n",
       "</table>\n",
       "</div>"
      ],
      "text/plain": [
       "                  Team  Home Games Home Total Home Average  Road Games  \\\n",
       "0   Montreal Canadiens          41    824,308       20,105          41   \n",
       "1    Detroit Red Wings          41    819,795       19,995          41   \n",
       "2  Philadelphia Flyers          41    802,595       19,575          41   \n",
       "3       St Louis Blues          41    800,319       19,519          41   \n",
       "4  Toronto Maple Leafs          41    789,567       19,257          41   \n",
       "\n",
       "  Road Average  Overall Games Overall Average  Year  Save Percentage  \\\n",
       "0       16,013             82          18,059  2001            0.899   \n",
       "1       17,889             82          18,942  2001            0.909   \n",
       "2       17,182             82          18,378  2001            0.903   \n",
       "3       16,898             82          18,209  2001            0.899   \n",
       "4       17,172             82          18,215  2001            0.908   \n",
       "\n",
       "   Penalty Minutes  Penalty Minutes Against  \n",
       "0             1020                     1294  \n",
       "1             1082                     1072  \n",
       "2             1183                     1332  \n",
       "3             1345                     1366  \n",
       "4             1430                     1243  "
      ]
     },
     "metadata": {},
     "execution_count": 14
    }
   ],
   "metadata": {}
  },
  {
   "cell_type": "code",
   "execution_count": 15,
   "source": [
    "# Corringindo os valores com vírgula e sem tipo\r\n",
    "\r\n",
    "espn_df['Home Total'] = espn_df['Home Total'].str.replace(',','')\r\n",
    "espn_df['Home Average'] = espn_df['Home Average'].str.replace(',','')\r\n",
    "espn_df['Road Average'] = espn_df['Road Average'].str.replace(',','')\r\n",
    "espn_df['Overall Average'] = espn_df['Overall Average'].str.replace(',','')\r\n",
    "espn_df = espn_df.astype({'Home Games': 'int8', 'Road Games': 'int8', 'Overall Games': 'int8', \r\n",
    "                               'Home Total': 'int32', 'Home Average': 'int16', 'Road Average': 'int16', \r\n",
    "                               'Overall Average': 'int16', 'Year': 'int16', 'Penalty Minutes': 'int16', \r\n",
    "                               'Penalty Minutes Against': 'int16'})\r\n"
   ],
   "outputs": [],
   "metadata": {
    "scrolled": true
   }
  },
  {
   "cell_type": "code",
   "execution_count": 16,
   "source": [
    "# Corrigindo os nomes dos times\r\n",
    "\r\n",
    "espn_df.loc[espn_df['Team'] == 'St Louis Blues', 'Team'] = 'St. Louis Blues'\r\n",
    "espn_df.loc[espn_df['Team'] == 'Minnesota North Stars', 'Team'] = 'Minnesota Wild'\r\n",
    "scrape_df.loc[scrape_df['Team Name'] == 'Hartford Whalers', 'Team Name'] = 'Carolina Hurricanes'\r\n",
    "scrape_df.loc[scrape_df['Team Name'] == 'Quebec Nordiques', 'Team Name'] = 'Colorado Avalanche'\r\n",
    "scrape_df.loc[scrape_df['Team Name'] == 'Winnipeg Jets', 'Team Name'] = 'Phoenix Coyotes'\r\n",
    "scrape_df.loc[scrape_df['Team Name'] == 'Atlanta Thrashers', 'Team Name'] = 'Calgary Flames'\r\n",
    "scrape_df.loc[scrape_df['Team Name'] == 'Anaheim Ducks', 'Team Name'] = 'Mighty Ducks of Anaheim'\r\n",
    "scrape_df.loc[scrape_df['Team Name'] == 'Minnesota North Stars', 'Team Name'] = 'Dallas Stars'\r\n"
   ],
   "outputs": [],
   "metadata": {}
  },
  {
   "cell_type": "markdown",
   "source": [
    "# Análise dos dados"
   ],
   "metadata": {}
  },
  {
   "cell_type": "markdown",
   "source": [
    "## Variações temporais"
   ],
   "metadata": {}
  },
  {
   "cell_type": "markdown",
   "source": [
    "Esportes não são estáticos, com o passar do tempo a tendência é a profissionalzação do cenário e dos atletas. Até mesmo no xadrez os jogadores evoluíram suas técnicas e modos de jogo com o tempo, e talvez os dados fornecidos concordem com essa afirmação."
   ],
   "metadata": {}
  },
  {
   "cell_type": "markdown",
   "source": [
    "### Quais foram os anos mais acirrados?"
   ],
   "metadata": {}
  },
  {
   "cell_type": "markdown",
   "source": [
    "Os campeonatos da NHL são disputados com as fases de pontos corridos e eliminatória. Os dados que foram extraídos representam apenas os jogos das fase de pontos corridos, portanto não descrevem verdadeiramente o resultado final daquele ano. Porém, limitando nossa visão apenas ao que temos, podemos criar uma medida para campeonatos acirrados.\r\n",
    "\r\n",
    "*Definimos um campeonato como mais acirrado quanto menor for a variância dos valores de porcentagem de vitória dos times naquele ano.*"
   ],
   "metadata": {}
  },
  {
   "cell_type": "markdown",
   "source": [
    "#### Separando informações úteis"
   ],
   "metadata": {}
  },
  {
   "cell_type": "code",
   "execution_count": 17,
   "source": [
    "# Criação de um data frame específico\r\n",
    "\r\n",
    "win_var_df = pd.DataFrame()\r\n",
    "win_var_df['Year'] = scrape_df['Year'].unique()\r\n"
   ],
   "outputs": [],
   "metadata": {
    "scrolled": true
   }
  },
  {
   "cell_type": "code",
   "execution_count": 18,
   "source": [
    "# Cálculo da variância\r\n",
    "\r\n",
    "var_per_year = np.array([])\r\n",
    "for year in scrape_df['Year'].unique():\r\n",
    "    var = scrape_df.loc[scrape_df['Year'] == year].sort_values(by='Win %', ascending=False)['Win %'].var()\r\n",
    "    \r\n",
    "    var_per_year = np.append(var_per_year, var)\r\n",
    "win_var_df['Win rate variance'] = var_per_year\r\n",
    "win_var_df.head()\r\n"
   ],
   "outputs": [
    {
     "output_type": "execute_result",
     "data": {
      "text/html": [
       "<div>\n",
       "<style scoped>\n",
       "    .dataframe tbody tr th:only-of-type {\n",
       "        vertical-align: middle;\n",
       "    }\n",
       "\n",
       "    .dataframe tbody tr th {\n",
       "        vertical-align: top;\n",
       "    }\n",
       "\n",
       "    .dataframe thead th {\n",
       "        text-align: right;\n",
       "    }\n",
       "</style>\n",
       "<table border=\"1\" class=\"dataframe\">\n",
       "  <thead>\n",
       "    <tr style=\"text-align: right;\">\n",
       "      <th></th>\n",
       "      <th>Year</th>\n",
       "      <th>Win rate variance</th>\n",
       "    </tr>\n",
       "  </thead>\n",
       "  <tbody>\n",
       "    <tr>\n",
       "      <th>0</th>\n",
       "      <td>1990</td>\n",
       "      <td>0.012258</td>\n",
       "    </tr>\n",
       "    <tr>\n",
       "      <th>1</th>\n",
       "      <td>1991</td>\n",
       "      <td>0.008999</td>\n",
       "    </tr>\n",
       "    <tr>\n",
       "      <th>2</th>\n",
       "      <td>1992</td>\n",
       "      <td>0.018790</td>\n",
       "    </tr>\n",
       "    <tr>\n",
       "      <th>3</th>\n",
       "      <td>1993</td>\n",
       "      <td>0.010203</td>\n",
       "    </tr>\n",
       "    <tr>\n",
       "      <th>4</th>\n",
       "      <td>1994</td>\n",
       "      <td>0.013447</td>\n",
       "    </tr>\n",
       "  </tbody>\n",
       "</table>\n",
       "</div>"
      ],
      "text/plain": [
       "   Year  Win rate variance\n",
       "0  1990           0.012258\n",
       "1  1991           0.008999\n",
       "2  1992           0.018790\n",
       "3  1993           0.010203\n",
       "4  1994           0.013447"
      ]
     },
     "metadata": {},
     "execution_count": 18
    }
   ],
   "metadata": {}
  },
  {
   "cell_type": "code",
   "execution_count": 19,
   "source": [
    "def NormalizeSeries(S):\r\n",
    "    '''\r\n",
    "    Retorna um array da série recebida com valores normalizados.\r\n",
    "    '''\r\n",
    "    m = S.mean()\r\n",
    "    std = S.std()\r\n",
    "    return (S.to_numpy() - m)/std\r\n",
    "    "
   ],
   "outputs": [],
   "metadata": {}
  },
  {
   "cell_type": "code",
   "execution_count": 20,
   "source": [
    "# Normalização\r\n",
    "\r\n",
    "win_var_df['Norm win rate variance'] = -NormalizeSeries(win_var_df['Win rate variance'])\r\n",
    "win_var_df['Norm GF'] = NormalizeSeries(scrape_df.groupby('Year').mean()['Goals For (GF)'])\r\n"
   ],
   "outputs": [],
   "metadata": {
    "scrolled": true
   }
  },
  {
   "cell_type": "markdown",
   "source": [
    "Por mais que sejam limitados, é muito tentador plotar juntamente os dados sobre o tempo de penalidade já que estamos analisados jogos acirrados, será que existe uma relação?"
   ],
   "metadata": {}
  },
  {
   "cell_type": "code",
   "execution_count": 21,
   "source": [
    "# Normalizando os dados do tempo de penalidade\r\n",
    "\r\n",
    "PMI_year_df = pd.DataFrame()\r\n",
    "PMI_year_df['Year'] = espn_df['Year'].unique()\r\n",
    "\r\n",
    "PMI_year_df['Norm PMI'] = NormalizeSeries(espn_df.groupby('Year').mean()['Penalty Minutes'])\r\n"
   ],
   "outputs": [],
   "metadata": {}
  },
  {
   "cell_type": "code",
   "execution_count": 22,
   "source": [
    "plt.figure(figsize=(12,6))\r\n",
    "plt.plot(win_var_df['Year'], win_var_df['Norm win rate variance'], linewidth=3, label='- Variância da % de vitória')\r\n",
    "plt.plot(PMI_year_df['Year'], PMI_year_df['Norm PMI'], label = 'Tempo de penalidade')\r\n",
    "plt.xlabel('Ano', fontsize=12)\r\n",
    "plt.ylabel('Valores Normalizados', fontsize=12)\r\n",
    "plt.legend(fontsize=11)\r\n",
    "plt.grid()\r\n",
    "plt.show();\r\n"
   ],
   "outputs": [
    {
     "output_type": "display_data",
     "data": {
      "image/png": "[encoded data removed]",
      "text/plain": [
       "<Figure size 864x432 with 1 Axes>"
      ]
     },
     "metadata": {
      "needs_background": "light"
     }
    }
   ],
   "metadata": {
    "scrolled": false
   }
  },
  {
   "cell_type": "markdown",
   "source": [
    "Por mais que nossos dados sejam limitados, é possível identificar que os jogos vem ficando lentamente mais acirrados. É curioso que o tempo de penalidade em média tenha diminuido nos últimos anos, já que o uso do termo \"acirrado\" passa uma ideia diferente."
   ],
   "metadata": {}
  },
  {
   "cell_type": "markdown",
   "source": [
    "### Qual a tendência do engajamento do público?"
   ],
   "metadata": {}
  },
  {
   "cell_type": "markdown",
   "source": [
    "Assim como na análise anterior vamos precisar definir o que chamamos de engajamento do público:\r\n",
    "\r\n",
    " - Queremos medir o quanto os fãs de hockey no gelo estão dispostos a acompanhar seu time, então faz sentido que o valor absoluto do público não seja o fator chave.\r\n",
    " - As medidas além do valor total que podemos usar dizem a respeito do público que acompanha os times mesmo quando estes não jogam em casa.\r\n",
    "\r\n",
    "*Definiremos assim, engajamento como sendo a razão entre a quantidade de acompanhantes fora de casa pela quantidade dentro de casa.*"
   ],
   "metadata": {}
  },
  {
   "cell_type": "code",
   "execution_count": 23,
   "source": [
    "engage_df = pd.DataFrame()\r\n",
    "home = espn_df.groupby('Year').mean()['Home Average']\r\n",
    "road = espn_df.groupby('Year').mean()['Road Average']\r\n",
    "\r\n",
    "engage_df['Engagement'] = (road/home) # Pela própria definição\r\n"
   ],
   "outputs": [],
   "metadata": {}
  },
  {
   "cell_type": "code",
   "execution_count": 24,
   "source": [
    "plt.figure(figsize = (12,6))\r\n",
    "plt.plot(espn_df['Year'].unique(), engage_df['Engagement'], linewidth = 3)\r\n",
    "plt.xlabel('Ano', fontsize = 12)\r\n",
    "plt.ylabel('Engajamento', fontsize = 12)\r\n",
    "plt.grid()\r\n",
    "plt.plot();\r\n"
   ],
   "outputs": [
    {
     "output_type": "execute_result",
     "data": {
      "text/plain": [
       "[]"
      ]
     },
     "metadata": {},
     "execution_count": 24
    },
    {
     "output_type": "display_data",
     "data": {
      "image/png": "[encoded data removed]",
      "text/plain": [
       "<Figure size 864x432 with 1 Axes>"
      ]
     },
     "metadata": {
      "needs_background": "light"
     }
    }
   ],
   "metadata": {
    "scrolled": false
   }
  },
  {
   "cell_type": "markdown",
   "source": [
    "Limitando nossa visão mais uma vez ao período de 2001-2011, a tendência que observamos é de uma maior discrepância entre a quantidade de público fora e dentro de casa, principalmente a partir de 2007. Podemos inferir que o advento das redes e a facilidade do acesso a informação desincentivaram a ida de torcedores até as quadras adversárias para acompanhar o seu time."
   ],
   "metadata": {}
  },
  {
   "cell_type": "markdown",
   "source": [
    "## Análise atemporal"
   ],
   "metadata": {}
  },
  {
   "cell_type": "markdown",
   "source": [
    "Também podemos tirar conclusões sobre o esporte sem a divisão temporal, dividindo a análise por exemplo, pelos times ou causas e consequências."
   ],
   "metadata": {}
  },
  {
   "cell_type": "markdown",
   "source": [
    "### Quais times ganham mais? Ofensivos ou defensivos?"
   ],
   "metadata": {}
  },
  {
   "cell_type": "markdown",
   "source": [
    "Essa é uma das perguntas mais naturais a se fazer, e para respondê-lá é preciso certo cuidado, não é só porque um time recebe menos gols que a média que ele é necessariamente defensivo, pode ser o caso de seu ataque ser tão bom que o jogo nem chegue ao seu lado da quadra.\r\n",
    "\r\n",
    "O seguinte método pode ser útil para uma resposta menos enviesada:\r\n",
    "\r\n",
    "* Calcula-se a média de gols em cada ano.\r\n",
    "* Para cada ano, verifica-se qual a porcentagem para mais ou para menos que o número de gols feitos ou sofridos pelo time naquele ano representa da média.\r\n",
    "* Para cada ano, o time recebe uma classificação de comportamento de 0 (Neutro), 1 (Ofensivo) ou -1 (Defensivo) se a porcentagem do item anterior esteja entre 10% para mais ou para menos, 10% para mais ou 10% para menos respectivamente.\r\n",
    "* Obtem-se a média total do comportamento de cada time nos anos analisados.\r\n",
    "\r\n",
    "A divisão anual serve para compararmos a relação ataque-defesa nos ambientes isolados de cada campeonato, já que eventos de outros anos podem alterá-la, como mudança de regras ou de estilo de jogo."
   ],
   "metadata": {}
  },
  {
   "cell_type": "code",
   "execution_count": 25,
   "source": [
    "behavior_df = pd.DataFrame()\r\n",
    "\r\n",
    "behavior_df['Team'], behavior_df['Year'], behavior_df['Win %'] = scrape_df['Team Name'], scrape_df['Year'], scrape_df['Win %']\r\n",
    "\r\n",
    "behavior_df['GF relative to Average %'] = scrape_df['Goals For (GF)']\r\n",
    "behavior_df['GA relative to Average %'] = scrape_df['Goals Against (GA)']\r\n",
    "\r\n",
    "for idx, row in scrape_df.groupby(['Year']).mean().iterrows(): # Iterando pela média de cada ano\r\n",
    "    behavior_df.loc[behavior_df['Year'] == idx, 'GF relative to Average %'] = (\r\n",
    "        behavior_df.loc[behavior_df['Year'] == idx, 'GF relative to Average %'] \r\n",
    "        - row['Goals For (GF)'])/row['Goals For (GF)'] # GF relative % = (GF-mean(GF))/mean(GF)\r\n",
    "    \r\n",
    "    behavior_df.loc[behavior_df['Year'] == idx, 'GA relative to Average %'] = (\r\n",
    "        behavior_df.loc[behavior_df['Year'] == idx, 'GA relative to Average %'] \r\n",
    "        - row['Goals Against (GA)'])/row['Goals Against (GA)'] # GA relative % = (GA-mean(GA))/mean(GA)\r\n"
   ],
   "outputs": [],
   "metadata": {}
  },
  {
   "cell_type": "code",
   "execution_count": 26,
   "source": [
    "def team_behavior(gf, ga):\r\n",
    "    if -0.1 < gf-ga < 0.1:\r\n",
    "        return 0 # Time neutro\r\n",
    "    if 0.1 <= gf -ga:\r\n",
    "        return 1 # Time ofensivo\r\n",
    "    return -1 # Time defensivo\r\n"
   ],
   "outputs": [],
   "metadata": {}
  },
  {
   "cell_type": "code",
   "execution_count": 27,
   "source": [
    "# Cálculo do comportamento de cada time em cada ano\r\n",
    "\r\n",
    "behavior_df['Behavior'] = (behavior_df['GF relative to Average %']-behavior_df['GA relative to Average %']\r\n",
    "                          ).apply(lambda x: team_behavior(x,0))\r\n"
   ],
   "outputs": [],
   "metadata": {}
  },
  {
   "cell_type": "code",
   "execution_count": 28,
   "source": [
    "plt.figure(figsize = (10, 5))\r\n",
    "for t in behavior_df['Team'].unique():\r\n",
    "    team_stats = behavior_df.loc[behavior_df['Team'] == t].mean()\r\n",
    "    plt.scatter(team_stats['Behavior'], team_stats['Win %'])\r\n",
    "plt.xlabel('Medição do comportamento', fontsize = 12)\r\n",
    "plt.ylabel('Porcentagem de vitórias', fontsize = 12)\r\n",
    "plt.grid()\r\n",
    "plt.show()\r\n"
   ],
   "outputs": [
    {
     "output_type": "display_data",
     "data": {
      "image/png": "[encoded data removed]",
      "text/plain": [
       "<Figure size 720x360 with 1 Axes>"
      ]
     },
     "metadata": {
      "needs_background": "light"
     }
    }
   ],
   "metadata": {
    "scrolled": false
   }
  },
  {
   "cell_type": "markdown",
   "source": [
    "Vemos que times mais ofensivos tendem a se classificar melhor no geral. A baixa variação no eixo vertical para um dado intervalo de comportamento apenas enfatiza essa relação, já que a porcentagem de vitória fica mais determinada para um dado valor de comportamento."
   ],
   "metadata": {}
  },
  {
   "cell_type": "markdown",
   "source": [
    "### Um time que faz mais faltas também recebe mais?"
   ],
   "metadata": {}
  },
  {
   "cell_type": "markdown",
   "source": [
    "Por mais que os tempos de falta variem bastante de acordo com o ano ou com o time, é intuitivo pensar que se um time comete muitas faltas, o adversário irá reagir também cometendo outras. Pode-se medir isso pela razão do tempo de faltas cometidas pelo de faltas sofridas."
   ],
   "metadata": {}
  },
  {
   "cell_type": "code",
   "execution_count": 29,
   "source": [
    "PMI_PMIA = espn_df.groupby(['Team']).mean()\r\n",
    "PMI_PMIA['PMI / PMIA'] = PMI_PMIA['Penalty Minutes'] / PMI_PMIA['Penalty Minutes Against']\r\n",
    "PMI_PMIA.groupby('Team').mean()['PMI / PMIA'].plot(kind = 'bar', width = 0.962, figsize=(14,5), zorder = 2, color = 'gray')\r\n",
    "plt.grid()\r\n",
    "plt.xlabel('Time', fontsize = 12)\r\n",
    "plt.ylabel('Faltas cometidas / Faltas sofridas')\r\n",
    "plt.show();"
   ],
   "outputs": [
    {
     "output_type": "display_data",
     "data": {
      "image/png": "[encoded data removed]",
      "text/plain": [
       "<Figure size 1008x360 with 1 Axes>"
      ]
     },
     "metadata": {
      "needs_background": "light"
     }
    }
   ],
   "metadata": {
    "scrolled": false
   }
  },
  {
   "cell_type": "markdown",
   "source": [
    "Como esperado a razão não distoa muito da igualdade, exceto pelos Carolina Hurricanes que parecem ser um pouco odiados e recebem consideravelmente mais faltas do que cometem."
   ],
   "metadata": {}
  },
  {
   "cell_type": "markdown",
   "source": [
    "### Como os times se saem no tempo extra?"
   ],
   "metadata": {}
  },
  {
   "cell_type": "markdown",
   "source": [
    "Para uma última análise, qual time é o mais perigoso no tempo extra? Quais são aqueles que se cansam mais fácil e é bom enrolar o jogo?"
   ],
   "metadata": {}
  },
  {
   "cell_type": "code",
   "execution_count": 30,
   "source": [
    "# Anos com a regra do tempo extra\r\n",
    "ot_df = scrape_df.loc[scrape_df['Year'] >= 1999].astype({'OT Losses': 'int8'})\r\n"
   ],
   "outputs": [],
   "metadata": {}
  },
  {
   "cell_type": "code",
   "execution_count": 31,
   "source": [
    "ot_df.groupby('Team Name').mean()['OT Losses'].plot(kind = 'bar', width = 0.966, figsize = (14,6), zorder = 2, color = 'gray')\r\n",
    "plt.grid()\r\n",
    "plt.ylabel('Média de derrotas no tempo extra', fontsize = 12)\r\n",
    "plt.xlabel('Time', fontsize = 12)\r\n",
    "plt.show();\r\n"
   ],
   "outputs": [
    {
     "output_type": "display_data",
     "data": {
      "image/png": "[encoded data removed]",
      "text/plain": [
       "<Figure size 1008x432 with 1 Axes>"
      ]
     },
     "metadata": {
      "needs_background": "light"
     }
    }
   ],
   "metadata": {}
  },
  {
   "cell_type": "markdown",
   "source": [
    "Se eu fosse você evitaria levar o jogo para o tempo extra contra os New Jersey Devils, e enrolaria bastante contra os Florida Panthers. "
   ],
   "metadata": {}
  },
  {
   "cell_type": "code",
   "execution_count": null,
   "source": [],
   "outputs": [],
   "metadata": {}
  }
 ],
 "metadata": {
  "kernelspec": {
   "name": "python3",
   "display_name": "Python 3.8.2 64-bit"
  },
  "language_info": {
   "codemirror_mode": {
    "name": "ipython",
    "version": 3
   },
   "file_extension": ".py",
   "mimetype": "text/x-python",
   "name": "python",
   "nbconvert_exporter": "python",
   "pygments_lexer": "ipython3",
   "version": "3.8.2"
  },
  "interpreter": {
   "hash": "e404b59586357c814bc0d3940e75d6763c00a48753b225b81f7716971b8e1741"
  }
 },
 "nbformat": 4,
 "nbformat_minor": 5
}